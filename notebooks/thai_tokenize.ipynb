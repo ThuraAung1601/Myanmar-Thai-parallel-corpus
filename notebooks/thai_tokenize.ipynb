{
  "nbformat": 4,
  "nbformat_minor": 0,
  "metadata": {
    "colab": {
      "provenance": []
    },
    "kernelspec": {
      "name": "python3",
      "display_name": "Python 3"
    },
    "language_info": {
      "name": "python"
    }
  },
  "cells": [
    {
      "cell_type": "code",
      "execution_count": null,
      "metadata": {
        "colab": {
          "base_uri": "https://localhost:8080/"
        },
        "id": "gDLYRwPGPYSa",
        "outputId": "2b771b28-b11c-4a4a-fa60-3847fd39507f"
      },
      "outputs": [
        {
          "output_type": "stream",
          "name": "stdout",
          "text": [
            "Looking in indexes: https://pypi.org/simple, https://us-python.pkg.dev/colab-wheels/public/simple/\n",
            "Collecting pythainlp\n",
            "  Downloading pythainlp-3.1.0-py3-none-any.whl (9.6 MB)\n",
            "\u001b[K     |████████████████████████████████| 9.6 MB 5.1 MB/s \n",
            "\u001b[?25hRequirement already satisfied: requests>=2.22.0 in /usr/local/lib/python3.7/dist-packages (from pythainlp) (2.23.0)\n",
            "Requirement already satisfied: urllib3!=1.25.0,!=1.25.1,<1.26,>=1.21.1 in /usr/local/lib/python3.7/dist-packages (from requests>=2.22.0->pythainlp) (1.24.3)\n",
            "Requirement already satisfied: chardet<4,>=3.0.2 in /usr/local/lib/python3.7/dist-packages (from requests>=2.22.0->pythainlp) (3.0.4)\n",
            "Requirement already satisfied: idna<3,>=2.5 in /usr/local/lib/python3.7/dist-packages (from requests>=2.22.0->pythainlp) (2.10)\n",
            "Requirement already satisfied: certifi>=2017.4.17 in /usr/local/lib/python3.7/dist-packages (from requests>=2.22.0->pythainlp) (2022.9.24)\n",
            "Installing collected packages: pythainlp\n",
            "Successfully installed pythainlp-3.1.0\n"
          ]
        }
      ],
      "source": [
        "!pip install -U pythainlp "
      ]
    },
    {
      "cell_type": "code",
      "source": [
        "from pythainlp import word_tokenize\n",
        "text = \"เมื่อวันที่ 28 ก.ค.เวลา 07.00 น. ณ บริเวณท้องสนามหลวง พล.อ.อนุพงษ์ เผ่าจินดา รมว.มหาดไทย พร้อมด้วย นายนิพนธ์ บุญญามณี รมช.มหาดไทย\"\n",
        "word_tokenize(text, keep_whitespace=False)"
      ],
      "metadata": {
        "colab": {
          "base_uri": "https://localhost:8080/"
        },
        "id": "p2IJXOuePbTn",
        "outputId": "eff5b78b-2701-4083-c720-4a9e44c6b6a9"
      },
      "execution_count": null,
      "outputs": [
        {
          "output_type": "execute_result",
          "data": {
            "text/plain": [
              "['เมื่อ',\n",
              " 'วันที่',\n",
              " '28',\n",
              " 'ก.ค.',\n",
              " 'เวลา',\n",
              " '07.00',\n",
              " 'น.',\n",
              " 'ณ',\n",
              " 'บริเวณ',\n",
              " 'ท้องสนามหลวง',\n",
              " 'พล',\n",
              " '.',\n",
              " 'อ.',\n",
              " 'อนุ',\n",
              " 'พงษ์',\n",
              " 'เผ่า',\n",
              " 'จินดา',\n",
              " 'รมว.',\n",
              " 'มหาดไทย',\n",
              " 'พร้อมด้วย',\n",
              " 'นาย',\n",
              " 'นิพนธ์',\n",
              " 'บุญ',\n",
              " 'ญา',\n",
              " 'มณี',\n",
              " 'รมช.',\n",
              " 'มหาดไทย']"
            ]
          },
          "metadata": {},
          "execution_count": 2
        }
      ]
    },
    {
      "cell_type": "code",
      "source": [
        "def tokenize(line):\n",
        "    sentence = word_tokenize(line,keep_whitespace=False)\n",
        "    sentence = ' '.join([str(elem) for elem in sentence])\n",
        "    return sentence"
      ],
      "metadata": {
        "id": "PgT52ovVPtHF"
      },
      "execution_count": null,
      "outputs": []
    },
    {
      "cell_type": "code",
      "source": [
        "tokenize(text)"
      ],
      "metadata": {
        "colab": {
          "base_uri": "https://localhost:8080/",
          "height": 53
        },
        "id": "2pgO0Hq8QZNY",
        "outputId": "acac56c1-2f8a-4548-e089-136102531c00"
      },
      "execution_count": null,
      "outputs": [
        {
          "output_type": "execute_result",
          "data": {
            "text/plain": [
              "'เมื่อ วันที่ 28 ก.ค. เวลา 07.00 น. ณ บริเวณ ท้องสนามหลวง พล . อ. อนุ พงษ์ เผ่า จินดา รมว. มหาดไทย พร้อมด้วย นาย นิพนธ์ บุญ ญา มณี รมช. มหาดไทย'"
            ],
            "application/vnd.google.colaboratory.intrinsic+json": {
              "type": "string"
            }
          },
          "metadata": {},
          "execution_count": 4
        }
      ]
    },
    {
      "cell_type": "code",
      "source": [
        "import pandas as pd\n",
        "\n",
        "# train\n",
        "train = \"train.csv\"\n",
        "train = pd.read_csv(train,encoding='utf-8')\n",
        "print(train.head())"
      ],
      "metadata": {
        "colab": {
          "base_uri": "https://localhost:8080/"
        },
        "id": "Milcacj9QcO2",
        "outputId": "591e406f-5509-4dfd-d668-b0285d64d510"
      },
      "execution_count": null,
      "outputs": [
        {
          "output_type": "stream",
          "name": "stdout",
          "text": [
            "                                                my  \\\n",
            "0   မင်း အဲ့ဒါ ကို အခြား တစ်ခုနဲ့ မ ချိတ် ဘူးလား ။   \n",
            "1                သူမ ဘယ်သူ့ကိုမှ မ မှတ်မိတော့ဘူး ။   \n",
            "2             အဲ့ဒါ ကျွန်တော်တို့ အတွက် ခက်ခဲတယ် ။   \n",
            "3  ခင်ဗျား ပြောခဲ့ သလို ကျွန်တော် ရှင်းပြ ခဲ့တယ် ။   \n",
            "4           သူ့ကို ထိန်းဖို့ မင်း ပဲ တတ်နိုင်တယ် ။   \n",
            "\n",
            "                                     th  \n",
            "0    คุณไม่เชื่อมต่อกับสิ่งอื่นหรือไม่?  \n",
            "1                     เธอจำไม่ได้ว่าใคร  \n",
            "2                       มันยากสำหรับเรา  \n",
            "3               อย่างที่คุณพูดฉันอธิบาย  \n",
            "4  คุณสามารถทำได้เพื่อควบคุมเขาเท่านั้น  \n"
          ]
        }
      ]
    },
    {
      "cell_type": "code",
      "source": [
        "# dev\n",
        "dev = \"dev.csv\"\n",
        "dev = pd.read_csv(dev,encoding='utf-8')\n",
        "print(dev.head())"
      ],
      "metadata": {
        "colab": {
          "base_uri": "https://localhost:8080/"
        },
        "id": "I7_eSUf-Q3jg",
        "outputId": "dc4d7113-ec0d-4596-947b-de2a9d9fd6e4"
      },
      "execution_count": null,
      "outputs": [
        {
          "output_type": "stream",
          "name": "stdout",
          "text": [
            "                                                  my  \\\n",
            "0  ကျွန်တော် မနက်ဖြန် ကား အသစ် တွေ သွား ကြည့် မလိ...   \n",
            "1                       မင်း ဘာ တွေ သတင်းပေး မှာလဲ ။   \n",
            "2                   အကြံဉာဏ် ကောင်းတွေ လိုချင် လား ။   \n",
            "3                           မင်း ဘာ တွေ သယ် နေတာလဲ ။   \n",
            "4  မင်း ငါ့ကို မ မုန်း ခဲ့ဘူး နော် ၊ မုန်း ခဲ့သလား ။   \n",
            "\n",
            "                               th  \n",
            "0        พรุ่งนี้ฉันไม่เห็นรถใหม่  \n",
            "1                   พูดว่าอะไรนะ?  \n",
            "2  คุณต้องการคำแนะนำที่ดีหรือไม่?  \n",
            "3                 คุณถืออะไรอยู่?  \n",
            "4      คุณไม่ได้เกลียดฉัน เกลียด?  \n"
          ]
        }
      ]
    },
    {
      "cell_type": "code",
      "source": [
        "# test\n",
        "test = \"test.csv\"\n",
        "test = pd.read_csv(test,encoding='utf-8')\n",
        "print(test.head())"
      ],
      "metadata": {
        "colab": {
          "base_uri": "https://localhost:8080/"
        },
        "id": "S7_jsfoFRYIK",
        "outputId": "df06532e-6799-4f85-88e5-9618d3aad95b"
      },
      "execution_count": null,
      "outputs": [
        {
          "output_type": "stream",
          "name": "stdout",
          "text": [
            "                                       my                           th\n",
            "0  သူ အမှန်အတိုင်း မ ကျိန်ဆို ရဲ ဘူးလား ။     คุณไม่สาบานความจริงหรือ?\n",
            "1       ကျွန်တော်သာဆို ပြန်ပေး လိုက်မှာ ။                  ฉันจะให้คืน\n",
            "2         ဆူပြီးတဲ့ ရေကို သောက် သင့်တယ် ။  ควรใช้น้ำที่ประสบความสำเร็จ\n",
            "3              ခင်ဗျား မေးစရာ မ လို ဘူး ။                คุณไม่ต้องถาม\n",
            "4      သူမ ကို သူ တကယ် မ မြတ်နိုး ခဲ့ပါ ။         เธอไม่ได้รักเธอจริงๆ\n"
          ]
        }
      ]
    },
    {
      "cell_type": "code",
      "source": [
        "train[\"th\"] = train[\"th\"].apply(tokenize)"
      ],
      "metadata": {
        "id": "yNgNt44-R-t-"
      },
      "execution_count": null,
      "outputs": []
    },
    {
      "cell_type": "code",
      "source": [
        "train.head()"
      ],
      "metadata": {
        "colab": {
          "base_uri": "https://localhost:8080/",
          "height": 206
        },
        "id": "OTCI95N6SGTp",
        "outputId": "ff1f7c59-5bbc-4903-cba3-e064135ffbd4"
      },
      "execution_count": null,
      "outputs": [
        {
          "output_type": "execute_result",
          "data": {
            "text/plain": [
              "                                                my  \\\n",
              "0   မင်း အဲ့ဒါ ကို အခြား တစ်ခုနဲ့ မ ချိတ် ဘူးလား ။   \n",
              "1                သူမ ဘယ်သူ့ကိုမှ မ မှတ်မိတော့ဘူး ။   \n",
              "2             အဲ့ဒါ ကျွန်တော်တို့ အတွက် ခက်ခဲတယ် ။   \n",
              "3  ခင်ဗျား ပြောခဲ့ သလို ကျွန်တော် ရှင်းပြ ခဲ့တယ် ။   \n",
              "4           သူ့ကို ထိန်းဖို့ မင်း ပဲ တတ်နိုင်တယ် ။   \n",
              "\n",
              "                                           th  \n",
              "0   คุณ ไม่ เชื่อมต่อ กับ สิ่ง อื่น หรือไม่ ?  \n",
              "1                      เธอ จำ ไม่ ได้ ว่า ใคร  \n",
              "2                          มัน ยาก สำหรับ เรา  \n",
              "3                อย่าง ที่ คุณ พูด ฉัน อธิบาย  \n",
              "4  คุณ สามารถ ทำได้ เพื่อ ควบคุม เขา เท่านั้น  "
            ],
            "text/html": [
              "\n",
              "  <div id=\"df-b73d3b8e-74f4-43f9-985c-21ca5fb8ee1f\">\n",
              "    <div class=\"colab-df-container\">\n",
              "      <div>\n",
              "<style scoped>\n",
              "    .dataframe tbody tr th:only-of-type {\n",
              "        vertical-align: middle;\n",
              "    }\n",
              "\n",
              "    .dataframe tbody tr th {\n",
              "        vertical-align: top;\n",
              "    }\n",
              "\n",
              "    .dataframe thead th {\n",
              "        text-align: right;\n",
              "    }\n",
              "</style>\n",
              "<table border=\"1\" class=\"dataframe\">\n",
              "  <thead>\n",
              "    <tr style=\"text-align: right;\">\n",
              "      <th></th>\n",
              "      <th>my</th>\n",
              "      <th>th</th>\n",
              "    </tr>\n",
              "  </thead>\n",
              "  <tbody>\n",
              "    <tr>\n",
              "      <th>0</th>\n",
              "      <td>မင်း အဲ့ဒါ ကို အခြား တစ်ခုနဲ့ မ ချိတ် ဘူးလား ။</td>\n",
              "      <td>คุณ ไม่ เชื่อมต่อ กับ สิ่ง อื่น หรือไม่ ?</td>\n",
              "    </tr>\n",
              "    <tr>\n",
              "      <th>1</th>\n",
              "      <td>သူမ ဘယ်သူ့ကိုမှ မ မှတ်မိတော့ဘူး ။</td>\n",
              "      <td>เธอ จำ ไม่ ได้ ว่า ใคร</td>\n",
              "    </tr>\n",
              "    <tr>\n",
              "      <th>2</th>\n",
              "      <td>အဲ့ဒါ ကျွန်တော်တို့ အတွက် ခက်ခဲတယ် ။</td>\n",
              "      <td>มัน ยาก สำหรับ เรา</td>\n",
              "    </tr>\n",
              "    <tr>\n",
              "      <th>3</th>\n",
              "      <td>ခင်ဗျား ပြောခဲ့ သလို ကျွန်တော် ရှင်းပြ ခဲ့တယ် ။</td>\n",
              "      <td>อย่าง ที่ คุณ พูด ฉัน อธิบาย</td>\n",
              "    </tr>\n",
              "    <tr>\n",
              "      <th>4</th>\n",
              "      <td>သူ့ကို ထိန်းဖို့ မင်း ပဲ တတ်နိုင်တယ် ။</td>\n",
              "      <td>คุณ สามารถ ทำได้ เพื่อ ควบคุม เขา เท่านั้น</td>\n",
              "    </tr>\n",
              "  </tbody>\n",
              "</table>\n",
              "</div>\n",
              "      <button class=\"colab-df-convert\" onclick=\"convertToInteractive('df-b73d3b8e-74f4-43f9-985c-21ca5fb8ee1f')\"\n",
              "              title=\"Convert this dataframe to an interactive table.\"\n",
              "              style=\"display:none;\">\n",
              "        \n",
              "  <svg xmlns=\"http://www.w3.org/2000/svg\" height=\"24px\"viewBox=\"0 0 24 24\"\n",
              "       width=\"24px\">\n",
              "    <path d=\"M0 0h24v24H0V0z\" fill=\"none\"/>\n",
              "    <path d=\"M18.56 5.44l.94 2.06.94-2.06 2.06-.94-2.06-.94-.94-2.06-.94 2.06-2.06.94zm-11 1L8.5 8.5l.94-2.06 2.06-.94-2.06-.94L8.5 2.5l-.94 2.06-2.06.94zm10 10l.94 2.06.94-2.06 2.06-.94-2.06-.94-.94-2.06-.94 2.06-2.06.94z\"/><path d=\"M17.41 7.96l-1.37-1.37c-.4-.4-.92-.59-1.43-.59-.52 0-1.04.2-1.43.59L10.3 9.45l-7.72 7.72c-.78.78-.78 2.05 0 2.83L4 21.41c.39.39.9.59 1.41.59.51 0 1.02-.2 1.41-.59l7.78-7.78 2.81-2.81c.8-.78.8-2.07 0-2.86zM5.41 20L4 18.59l7.72-7.72 1.47 1.35L5.41 20z\"/>\n",
              "  </svg>\n",
              "      </button>\n",
              "      \n",
              "  <style>\n",
              "    .colab-df-container {\n",
              "      display:flex;\n",
              "      flex-wrap:wrap;\n",
              "      gap: 12px;\n",
              "    }\n",
              "\n",
              "    .colab-df-convert {\n",
              "      background-color: #E8F0FE;\n",
              "      border: none;\n",
              "      border-radius: 50%;\n",
              "      cursor: pointer;\n",
              "      display: none;\n",
              "      fill: #1967D2;\n",
              "      height: 32px;\n",
              "      padding: 0 0 0 0;\n",
              "      width: 32px;\n",
              "    }\n",
              "\n",
              "    .colab-df-convert:hover {\n",
              "      background-color: #E2EBFA;\n",
              "      box-shadow: 0px 1px 2px rgba(60, 64, 67, 0.3), 0px 1px 3px 1px rgba(60, 64, 67, 0.15);\n",
              "      fill: #174EA6;\n",
              "    }\n",
              "\n",
              "    [theme=dark] .colab-df-convert {\n",
              "      background-color: #3B4455;\n",
              "      fill: #D2E3FC;\n",
              "    }\n",
              "\n",
              "    [theme=dark] .colab-df-convert:hover {\n",
              "      background-color: #434B5C;\n",
              "      box-shadow: 0px 1px 3px 1px rgba(0, 0, 0, 0.15);\n",
              "      filter: drop-shadow(0px 1px 2px rgba(0, 0, 0, 0.3));\n",
              "      fill: #FFFFFF;\n",
              "    }\n",
              "  </style>\n",
              "\n",
              "      <script>\n",
              "        const buttonEl =\n",
              "          document.querySelector('#df-b73d3b8e-74f4-43f9-985c-21ca5fb8ee1f button.colab-df-convert');\n",
              "        buttonEl.style.display =\n",
              "          google.colab.kernel.accessAllowed ? 'block' : 'none';\n",
              "\n",
              "        async function convertToInteractive(key) {\n",
              "          const element = document.querySelector('#df-b73d3b8e-74f4-43f9-985c-21ca5fb8ee1f');\n",
              "          const dataTable =\n",
              "            await google.colab.kernel.invokeFunction('convertToInteractive',\n",
              "                                                     [key], {});\n",
              "          if (!dataTable) return;\n",
              "\n",
              "          const docLinkHtml = 'Like what you see? Visit the ' +\n",
              "            '<a target=\"_blank\" href=https://colab.research.google.com/notebooks/data_table.ipynb>data table notebook</a>'\n",
              "            + ' to learn more about interactive tables.';\n",
              "          element.innerHTML = '';\n",
              "          dataTable['output_type'] = 'display_data';\n",
              "          await google.colab.output.renderOutput(dataTable, element);\n",
              "          const docLink = document.createElement('div');\n",
              "          docLink.innerHTML = docLinkHtml;\n",
              "          element.appendChild(docLink);\n",
              "        }\n",
              "      </script>\n",
              "    </div>\n",
              "  </div>\n",
              "  "
            ]
          },
          "metadata": {},
          "execution_count": 28
        }
      ]
    },
    {
      "cell_type": "code",
      "source": [
        "test[\"th\"] = test[\"th\"].apply(tokenize)\n",
        "dev[\"th\"] = dev[\"th\"].apply(tokenize)"
      ],
      "metadata": {
        "id": "qrv3ANdnSI0F"
      },
      "execution_count": null,
      "outputs": []
    },
    {
      "cell_type": "code",
      "source": [
        "test.head()"
      ],
      "metadata": {
        "colab": {
          "base_uri": "https://localhost:8080/",
          "height": 206
        },
        "id": "OIm3j9xPSO1R",
        "outputId": "ff5c0b00-00c5-4352-e908-b84c17283ac7"
      },
      "execution_count": null,
      "outputs": [
        {
          "output_type": "execute_result",
          "data": {
            "text/plain": [
              "                                       my                               th\n",
              "0  သူ အမှန်အတိုင်း မ ကျိန်ဆို ရဲ ဘူးလား ။    คุณ ไม่ สาบาน ความจริง หรือ ?\n",
              "1       ကျွန်တော်သာဆို ပြန်ပေး လိုက်မှာ ။                   ฉัน จะ ให้ คืน\n",
              "2         ဆူပြီးတဲ့ ရေကို သောက် သင့်တယ် ။  ควร ใช้ น้ำ ที่ ประสบความสำเร็จ\n",
              "3              ခင်ဗျား မေးစရာ မ လို ဘူး ။                  คุณ ไม่ต้อง ถาม\n",
              "4      သူမ ကို သူ တကယ် မ မြတ်နိုး ခဲ့ပါ ။        เธอ ไม่ ได้ รัก เธอ จริงๆ"
            ],
            "text/html": [
              "\n",
              "  <div id=\"df-9ad42838-b8de-4f2f-9f2c-6fd6f712a928\">\n",
              "    <div class=\"colab-df-container\">\n",
              "      <div>\n",
              "<style scoped>\n",
              "    .dataframe tbody tr th:only-of-type {\n",
              "        vertical-align: middle;\n",
              "    }\n",
              "\n",
              "    .dataframe tbody tr th {\n",
              "        vertical-align: top;\n",
              "    }\n",
              "\n",
              "    .dataframe thead th {\n",
              "        text-align: right;\n",
              "    }\n",
              "</style>\n",
              "<table border=\"1\" class=\"dataframe\">\n",
              "  <thead>\n",
              "    <tr style=\"text-align: right;\">\n",
              "      <th></th>\n",
              "      <th>my</th>\n",
              "      <th>th</th>\n",
              "    </tr>\n",
              "  </thead>\n",
              "  <tbody>\n",
              "    <tr>\n",
              "      <th>0</th>\n",
              "      <td>သူ အမှန်အတိုင်း မ ကျိန်ဆို ရဲ ဘူးလား ။</td>\n",
              "      <td>คุณ ไม่ สาบาน ความจริง หรือ ?</td>\n",
              "    </tr>\n",
              "    <tr>\n",
              "      <th>1</th>\n",
              "      <td>ကျွန်တော်သာဆို ပြန်ပေး လိုက်မှာ ။</td>\n",
              "      <td>ฉัน จะ ให้ คืน</td>\n",
              "    </tr>\n",
              "    <tr>\n",
              "      <th>2</th>\n",
              "      <td>ဆူပြီးတဲ့ ရေကို သောက် သင့်တယ် ။</td>\n",
              "      <td>ควร ใช้ น้ำ ที่ ประสบความสำเร็จ</td>\n",
              "    </tr>\n",
              "    <tr>\n",
              "      <th>3</th>\n",
              "      <td>ခင်ဗျား မေးစရာ မ လို ဘူး ။</td>\n",
              "      <td>คุณ ไม่ต้อง ถาม</td>\n",
              "    </tr>\n",
              "    <tr>\n",
              "      <th>4</th>\n",
              "      <td>သူမ ကို သူ တကယ် မ မြတ်နိုး ခဲ့ပါ ။</td>\n",
              "      <td>เธอ ไม่ ได้ รัก เธอ จริงๆ</td>\n",
              "    </tr>\n",
              "  </tbody>\n",
              "</table>\n",
              "</div>\n",
              "      <button class=\"colab-df-convert\" onclick=\"convertToInteractive('df-9ad42838-b8de-4f2f-9f2c-6fd6f712a928')\"\n",
              "              title=\"Convert this dataframe to an interactive table.\"\n",
              "              style=\"display:none;\">\n",
              "        \n",
              "  <svg xmlns=\"http://www.w3.org/2000/svg\" height=\"24px\"viewBox=\"0 0 24 24\"\n",
              "       width=\"24px\">\n",
              "    <path d=\"M0 0h24v24H0V0z\" fill=\"none\"/>\n",
              "    <path d=\"M18.56 5.44l.94 2.06.94-2.06 2.06-.94-2.06-.94-.94-2.06-.94 2.06-2.06.94zm-11 1L8.5 8.5l.94-2.06 2.06-.94-2.06-.94L8.5 2.5l-.94 2.06-2.06.94zm10 10l.94 2.06.94-2.06 2.06-.94-2.06-.94-.94-2.06-.94 2.06-2.06.94z\"/><path d=\"M17.41 7.96l-1.37-1.37c-.4-.4-.92-.59-1.43-.59-.52 0-1.04.2-1.43.59L10.3 9.45l-7.72 7.72c-.78.78-.78 2.05 0 2.83L4 21.41c.39.39.9.59 1.41.59.51 0 1.02-.2 1.41-.59l7.78-7.78 2.81-2.81c.8-.78.8-2.07 0-2.86zM5.41 20L4 18.59l7.72-7.72 1.47 1.35L5.41 20z\"/>\n",
              "  </svg>\n",
              "      </button>\n",
              "      \n",
              "  <style>\n",
              "    .colab-df-container {\n",
              "      display:flex;\n",
              "      flex-wrap:wrap;\n",
              "      gap: 12px;\n",
              "    }\n",
              "\n",
              "    .colab-df-convert {\n",
              "      background-color: #E8F0FE;\n",
              "      border: none;\n",
              "      border-radius: 50%;\n",
              "      cursor: pointer;\n",
              "      display: none;\n",
              "      fill: #1967D2;\n",
              "      height: 32px;\n",
              "      padding: 0 0 0 0;\n",
              "      width: 32px;\n",
              "    }\n",
              "\n",
              "    .colab-df-convert:hover {\n",
              "      background-color: #E2EBFA;\n",
              "      box-shadow: 0px 1px 2px rgba(60, 64, 67, 0.3), 0px 1px 3px 1px rgba(60, 64, 67, 0.15);\n",
              "      fill: #174EA6;\n",
              "    }\n",
              "\n",
              "    [theme=dark] .colab-df-convert {\n",
              "      background-color: #3B4455;\n",
              "      fill: #D2E3FC;\n",
              "    }\n",
              "\n",
              "    [theme=dark] .colab-df-convert:hover {\n",
              "      background-color: #434B5C;\n",
              "      box-shadow: 0px 1px 3px 1px rgba(0, 0, 0, 0.15);\n",
              "      filter: drop-shadow(0px 1px 2px rgba(0, 0, 0, 0.3));\n",
              "      fill: #FFFFFF;\n",
              "    }\n",
              "  </style>\n",
              "\n",
              "      <script>\n",
              "        const buttonEl =\n",
              "          document.querySelector('#df-9ad42838-b8de-4f2f-9f2c-6fd6f712a928 button.colab-df-convert');\n",
              "        buttonEl.style.display =\n",
              "          google.colab.kernel.accessAllowed ? 'block' : 'none';\n",
              "\n",
              "        async function convertToInteractive(key) {\n",
              "          const element = document.querySelector('#df-9ad42838-b8de-4f2f-9f2c-6fd6f712a928');\n",
              "          const dataTable =\n",
              "            await google.colab.kernel.invokeFunction('convertToInteractive',\n",
              "                                                     [key], {});\n",
              "          if (!dataTable) return;\n",
              "\n",
              "          const docLinkHtml = 'Like what you see? Visit the ' +\n",
              "            '<a target=\"_blank\" href=https://colab.research.google.com/notebooks/data_table.ipynb>data table notebook</a>'\n",
              "            + ' to learn more about interactive tables.';\n",
              "          element.innerHTML = '';\n",
              "          dataTable['output_type'] = 'display_data';\n",
              "          await google.colab.output.renderOutput(dataTable, element);\n",
              "          const docLink = document.createElement('div');\n",
              "          docLink.innerHTML = docLinkHtml;\n",
              "          element.appendChild(docLink);\n",
              "        }\n",
              "      </script>\n",
              "    </div>\n",
              "  </div>\n",
              "  "
            ]
          },
          "metadata": {},
          "execution_count": 32
        }
      ]
    },
    {
      "cell_type": "code",
      "source": [
        "dev.head()"
      ],
      "metadata": {
        "colab": {
          "base_uri": "https://localhost:8080/",
          "height": 206
        },
        "id": "SXizpK5ISRxn",
        "outputId": "8cbdc5d8-6ef3-4871-f075-00ef243ed04a"
      },
      "execution_count": null,
      "outputs": [
        {
          "output_type": "execute_result",
          "data": {
            "text/plain": [
              "                                                  my  \\\n",
              "0  ကျွန်တော် မနက်ဖြန် ကား အသစ် တွေ သွား ကြည့် မလိ...   \n",
              "1                       မင်း ဘာ တွေ သတင်းပေး မှာလဲ ။   \n",
              "2                   အကြံဉာဏ် ကောင်းတွေ လိုချင် လား ။   \n",
              "3                           မင်း ဘာ တွေ သယ် နေတာလဲ ။   \n",
              "4  မင်း ငါ့ကို မ မုန်း ခဲ့ဘူး နော် ၊ မုန်း ခဲ့သလား ။   \n",
              "\n",
              "                                     th  \n",
              "0         พรุ่งนี้ ฉัน ไม่ เห็น รถ ใหม่  \n",
              "1                      พูดว่า อะไร นะ ?  \n",
              "2  คุณ ต้องการ คำแนะนำ ที่ ดี หรือไม่ ?  \n",
              "3                   คุณ ถือ อะไร อยู่ ?  \n",
              "4       คุณ ไม่ ได้ เกลียด ฉัน เกลียด ?  "
            ],
            "text/html": [
              "\n",
              "  <div id=\"df-cd28aa02-7fef-46f4-8b1b-14f22a20f5c5\">\n",
              "    <div class=\"colab-df-container\">\n",
              "      <div>\n",
              "<style scoped>\n",
              "    .dataframe tbody tr th:only-of-type {\n",
              "        vertical-align: middle;\n",
              "    }\n",
              "\n",
              "    .dataframe tbody tr th {\n",
              "        vertical-align: top;\n",
              "    }\n",
              "\n",
              "    .dataframe thead th {\n",
              "        text-align: right;\n",
              "    }\n",
              "</style>\n",
              "<table border=\"1\" class=\"dataframe\">\n",
              "  <thead>\n",
              "    <tr style=\"text-align: right;\">\n",
              "      <th></th>\n",
              "      <th>my</th>\n",
              "      <th>th</th>\n",
              "    </tr>\n",
              "  </thead>\n",
              "  <tbody>\n",
              "    <tr>\n",
              "      <th>0</th>\n",
              "      <td>ကျွန်တော် မနက်ဖြန် ကား အသစ် တွေ သွား ကြည့် မလိ...</td>\n",
              "      <td>พรุ่งนี้ ฉัน ไม่ เห็น รถ ใหม่</td>\n",
              "    </tr>\n",
              "    <tr>\n",
              "      <th>1</th>\n",
              "      <td>မင်း ဘာ တွေ သတင်းပေး မှာလဲ ။</td>\n",
              "      <td>พูดว่า อะไร นะ ?</td>\n",
              "    </tr>\n",
              "    <tr>\n",
              "      <th>2</th>\n",
              "      <td>အကြံဉာဏ် ကောင်းတွေ လိုချင် လား ။</td>\n",
              "      <td>คุณ ต้องการ คำแนะนำ ที่ ดี หรือไม่ ?</td>\n",
              "    </tr>\n",
              "    <tr>\n",
              "      <th>3</th>\n",
              "      <td>မင်း ဘာ တွေ သယ် နေတာလဲ ။</td>\n",
              "      <td>คุณ ถือ อะไร อยู่ ?</td>\n",
              "    </tr>\n",
              "    <tr>\n",
              "      <th>4</th>\n",
              "      <td>မင်း ငါ့ကို မ မုန်း ခဲ့ဘူး နော် ၊ မုန်း ခဲ့သလား ။</td>\n",
              "      <td>คุณ ไม่ ได้ เกลียด ฉัน เกลียด ?</td>\n",
              "    </tr>\n",
              "  </tbody>\n",
              "</table>\n",
              "</div>\n",
              "      <button class=\"colab-df-convert\" onclick=\"convertToInteractive('df-cd28aa02-7fef-46f4-8b1b-14f22a20f5c5')\"\n",
              "              title=\"Convert this dataframe to an interactive table.\"\n",
              "              style=\"display:none;\">\n",
              "        \n",
              "  <svg xmlns=\"http://www.w3.org/2000/svg\" height=\"24px\"viewBox=\"0 0 24 24\"\n",
              "       width=\"24px\">\n",
              "    <path d=\"M0 0h24v24H0V0z\" fill=\"none\"/>\n",
              "    <path d=\"M18.56 5.44l.94 2.06.94-2.06 2.06-.94-2.06-.94-.94-2.06-.94 2.06-2.06.94zm-11 1L8.5 8.5l.94-2.06 2.06-.94-2.06-.94L8.5 2.5l-.94 2.06-2.06.94zm10 10l.94 2.06.94-2.06 2.06-.94-2.06-.94-.94-2.06-.94 2.06-2.06.94z\"/><path d=\"M17.41 7.96l-1.37-1.37c-.4-.4-.92-.59-1.43-.59-.52 0-1.04.2-1.43.59L10.3 9.45l-7.72 7.72c-.78.78-.78 2.05 0 2.83L4 21.41c.39.39.9.59 1.41.59.51 0 1.02-.2 1.41-.59l7.78-7.78 2.81-2.81c.8-.78.8-2.07 0-2.86zM5.41 20L4 18.59l7.72-7.72 1.47 1.35L5.41 20z\"/>\n",
              "  </svg>\n",
              "      </button>\n",
              "      \n",
              "  <style>\n",
              "    .colab-df-container {\n",
              "      display:flex;\n",
              "      flex-wrap:wrap;\n",
              "      gap: 12px;\n",
              "    }\n",
              "\n",
              "    .colab-df-convert {\n",
              "      background-color: #E8F0FE;\n",
              "      border: none;\n",
              "      border-radius: 50%;\n",
              "      cursor: pointer;\n",
              "      display: none;\n",
              "      fill: #1967D2;\n",
              "      height: 32px;\n",
              "      padding: 0 0 0 0;\n",
              "      width: 32px;\n",
              "    }\n",
              "\n",
              "    .colab-df-convert:hover {\n",
              "      background-color: #E2EBFA;\n",
              "      box-shadow: 0px 1px 2px rgba(60, 64, 67, 0.3), 0px 1px 3px 1px rgba(60, 64, 67, 0.15);\n",
              "      fill: #174EA6;\n",
              "    }\n",
              "\n",
              "    [theme=dark] .colab-df-convert {\n",
              "      background-color: #3B4455;\n",
              "      fill: #D2E3FC;\n",
              "    }\n",
              "\n",
              "    [theme=dark] .colab-df-convert:hover {\n",
              "      background-color: #434B5C;\n",
              "      box-shadow: 0px 1px 3px 1px rgba(0, 0, 0, 0.15);\n",
              "      filter: drop-shadow(0px 1px 2px rgba(0, 0, 0, 0.3));\n",
              "      fill: #FFFFFF;\n",
              "    }\n",
              "  </style>\n",
              "\n",
              "      <script>\n",
              "        const buttonEl =\n",
              "          document.querySelector('#df-cd28aa02-7fef-46f4-8b1b-14f22a20f5c5 button.colab-df-convert');\n",
              "        buttonEl.style.display =\n",
              "          google.colab.kernel.accessAllowed ? 'block' : 'none';\n",
              "\n",
              "        async function convertToInteractive(key) {\n",
              "          const element = document.querySelector('#df-cd28aa02-7fef-46f4-8b1b-14f22a20f5c5');\n",
              "          const dataTable =\n",
              "            await google.colab.kernel.invokeFunction('convertToInteractive',\n",
              "                                                     [key], {});\n",
              "          if (!dataTable) return;\n",
              "\n",
              "          const docLinkHtml = 'Like what you see? Visit the ' +\n",
              "            '<a target=\"_blank\" href=https://colab.research.google.com/notebooks/data_table.ipynb>data table notebook</a>'\n",
              "            + ' to learn more about interactive tables.';\n",
              "          element.innerHTML = '';\n",
              "          dataTable['output_type'] = 'display_data';\n",
              "          await google.colab.output.renderOutput(dataTable, element);\n",
              "          const docLink = document.createElement('div');\n",
              "          docLink.innerHTML = docLinkHtml;\n",
              "          element.appendChild(docLink);\n",
              "        }\n",
              "      </script>\n",
              "    </div>\n",
              "  </div>\n",
              "  "
            ]
          },
          "metadata": {},
          "execution_count": 33
        }
      ]
    },
    {
      "cell_type": "code",
      "source": [
        "dev.to_csv('tokenized.dev.csv', header=None, index=None, sep=',', mode='a')"
      ],
      "metadata": {
        "id": "qQNIMRkiSYwx"
      },
      "execution_count": null,
      "outputs": []
    },
    {
      "cell_type": "code",
      "source": [],
      "metadata": {
        "id": "NAizCyUJTpi7"
      },
      "execution_count": null,
      "outputs": []
    }
  ]
}